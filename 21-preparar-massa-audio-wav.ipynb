{
 "cells": [
  {
   "cell_type": "markdown",
   "id": "92a06740",
   "metadata": {},
   "source": [
    "# Preparo da massa de áudios em formato WAV"
   ]
  },
  {
   "cell_type": "markdown",
   "id": "4f2cbc95",
   "metadata": {},
   "source": [
    "### Referências\n",
    "\n",
    "https://medium.com/@keur.plkar/audio-data-augmentation-in-python-a91600613e47"
   ]
  },
  {
   "cell_type": "code",
   "execution_count": 16,
   "id": "ab33ee4a",
   "metadata": {},
   "outputs": [],
   "source": [
    "import os\n",
    "import sys\n",
    "import numpy as np\n",
    "import pandas as pd\n",
    "import librosa\n",
    "import librosa.display\n",
    "import soundfile as sf\n",
    "import matplotlib.pyplot as plt\n",
    "import IPython.display as ipd"
   ]
  },
  {
   "cell_type": "code",
   "execution_count": 17,
   "id": "20486d19",
   "metadata": {},
   "outputs": [],
   "source": [
    "# diretório de entrada\n",
    "DIR_ENTRADA = 'mp3'\n",
    "\n",
    "# diretório de saída\n",
    "DIR_SAIDA = 'wavbal5'\n",
    "\n",
    "# duração de cada trecho de áudio\n",
    "DURACAO_TRECHO = 5 # segundos\n",
    "SAMPLE_RATE = 16000 # 16 kHz\n",
    "\n",
    "# calcular a quantidade de pontos na onda\n",
    "PONTOS_ONDA = SAMPLE_RATE * DURACAO_TRECHO # 16 kHz * 5 s = 80000"
   ]
  },
  {
   "cell_type": "markdown",
   "id": "8b6607f3",
   "metadata": {},
   "source": [
    "## Verificar espécies disponíveis"
   ]
  },
  {
   "cell_type": "code",
   "execution_count": 18,
   "id": "6e34ec8b",
   "metadata": {},
   "outputs": [],
   "source": [
    "especies = os.listdir(DIR_ENTRADA)\n",
    "#especies"
   ]
  },
  {
   "cell_type": "code",
   "execution_count": 19,
   "id": "897a4f08",
   "metadata": {},
   "outputs": [],
   "source": [
    "arquivos = []\n",
    "for especie in especies:\n",
    "    arquivos.append(len(os.listdir(DIR_ENTRADA + '/' + especie)))\n",
    "#arquivos"
   ]
  },
  {
   "cell_type": "code",
   "execution_count": 20,
   "id": "8da1d597",
   "metadata": {},
   "outputs": [
    {
     "data": {
      "text/html": [
       "<div>\n",
       "<style scoped>\n",
       "    .dataframe tbody tr th:only-of-type {\n",
       "        vertical-align: middle;\n",
       "    }\n",
       "\n",
       "    .dataframe tbody tr th {\n",
       "        vertical-align: top;\n",
       "    }\n",
       "\n",
       "    .dataframe thead th {\n",
       "        text-align: right;\n",
       "    }\n",
       "</style>\n",
       "<table border=\"1\" class=\"dataframe\">\n",
       "  <thead>\n",
       "    <tr style=\"text-align: right;\">\n",
       "      <th></th>\n",
       "      <th>especie</th>\n",
       "      <th>arquivos_mp3</th>\n",
       "    </tr>\n",
       "  </thead>\n",
       "  <tbody>\n",
       "    <tr>\n",
       "      <th>0</th>\n",
       "      <td>mimus_saturninus</td>\n",
       "      <td>148</td>\n",
       "    </tr>\n",
       "    <tr>\n",
       "      <th>1</th>\n",
       "      <td>ramphocelus_carbo</td>\n",
       "      <td>185</td>\n",
       "    </tr>\n",
       "    <tr>\n",
       "      <th>2</th>\n",
       "      <td>columba_livia</td>\n",
       "      <td>40</td>\n",
       "    </tr>\n",
       "    <tr>\n",
       "      <th>3</th>\n",
       "      <td>turdus_leucomelas</td>\n",
       "      <td>322</td>\n",
       "    </tr>\n",
       "    <tr>\n",
       "      <th>4</th>\n",
       "      <td>caracara_plancus</td>\n",
       "      <td>90</td>\n",
       "    </tr>\n",
       "    <tr>\n",
       "      <th>5</th>\n",
       "      <td>megarynchus_pitangua</td>\n",
       "      <td>401</td>\n",
       "    </tr>\n",
       "    <tr>\n",
       "      <th>6</th>\n",
       "      <td>vanellus_chilensis</td>\n",
       "      <td>280</td>\n",
       "    </tr>\n",
       "    <tr>\n",
       "      <th>7</th>\n",
       "      <td>pitangus_sulphuratus</td>\n",
       "      <td>556</td>\n",
       "    </tr>\n",
       "    <tr>\n",
       "      <th>8</th>\n",
       "      <td>turdus_rufiventris</td>\n",
       "      <td>209</td>\n",
       "    </tr>\n",
       "    <tr>\n",
       "      <th>9</th>\n",
       "      <td>furnarius_rufus</td>\n",
       "      <td>152</td>\n",
       "    </tr>\n",
       "    <tr>\n",
       "      <th>10</th>\n",
       "      <td>theristicus_caudatus</td>\n",
       "      <td>106</td>\n",
       "    </tr>\n",
       "  </tbody>\n",
       "</table>\n",
       "</div>"
      ],
      "text/plain": [
       "                 especie  arquivos_mp3\n",
       "0       mimus_saturninus           148\n",
       "1      ramphocelus_carbo           185\n",
       "2          columba_livia            40\n",
       "3      turdus_leucomelas           322\n",
       "4       caracara_plancus            90\n",
       "5   megarynchus_pitangua           401\n",
       "6     vanellus_chilensis           280\n",
       "7   pitangus_sulphuratus           556\n",
       "8     turdus_rufiventris           209\n",
       "9        furnarius_rufus           152\n",
       "10  theristicus_caudatus           106"
      ]
     },
     "execution_count": 20,
     "metadata": {},
     "output_type": "execute_result"
    }
   ],
   "source": [
    "df = pd.DataFrame({\n",
    "    'especie': especies,\n",
    "    'arquivos_mp3': arquivos\n",
    "})\n",
    "df"
   ]
  },
  {
   "cell_type": "markdown",
   "id": "478d6fd1",
   "metadata": {},
   "source": [
    "## Recriar diretórios de saída"
   ]
  },
  {
   "cell_type": "code",
   "execution_count": 6,
   "id": "73c34a52",
   "metadata": {},
   "outputs": [
    {
     "name": "stdout",
     "output_type": "stream",
     "text": [
      "wavbal5\n"
     ]
    }
   ],
   "source": [
    "# excluir diretórios de saída\n",
    "\n",
    "import shutil\n",
    "shutil.rmtree(DIR_SAIDA)\n",
    "print(DIR_SAIDA)"
   ]
  },
  {
   "cell_type": "code",
   "execution_count": 7,
   "id": "f1bfb89e",
   "metadata": {},
   "outputs": [
    {
     "name": "stdout",
     "output_type": "stream",
     "text": [
      "wavbal5\n",
      "wavbal5/mimus_saturninus\n",
      "wavbal5/ramphocelus_carbo\n",
      "wavbal5/columba_livia\n",
      "wavbal5/turdus_leucomelas\n",
      "wavbal5/caracara_plancus\n",
      "wavbal5/megarynchus_pitangua\n",
      "wavbal5/vanellus_chilensis\n",
      "wavbal5/pitangus_sulphuratus\n",
      "wavbal5/turdus_rufiventris\n",
      "wavbal5/furnarius_rufus\n",
      "wavbal5/theristicus_caudatus\n"
     ]
    }
   ],
   "source": [
    "# criar diretórios de saída\n",
    "\n",
    "if not os.path.isdir(DIR_SAIDA):\n",
    "    os.mkdir(DIR_SAIDA)\n",
    "print(DIR_SAIDA)\n",
    "\n",
    "for especie in especies:\n",
    "    dir_especie = os.path.join(DIR_SAIDA, especie)\n",
    "    if not os.path.isdir(dir_especie):\n",
    "        os.mkdir(dir_especie)\n",
    "    print(dir_especie)"
   ]
  },
  {
   "cell_type": "markdown",
   "id": "a8ab7d27",
   "metadata": {},
   "source": [
    "## Processar arquivos de áudio"
   ]
  },
  {
   "cell_type": "code",
   "execution_count": 11,
   "id": "d4678dec",
   "metadata": {},
   "outputs": [],
   "source": [
    "import warnings\n",
    "warnings.filterwarnings('ignore')"
   ]
  },
  {
   "cell_type": "code",
   "execution_count": 12,
   "id": "40471cbf",
   "metadata": {
    "scrolled": true
   },
   "outputs": [
    {
     "name": "stdout",
     "output_type": "stream",
     "text": [
      "CPU times: user 41min 28s, sys: 1min 16s, total: 42min 45s\n",
      "Wall time: 1h 10min 17s\n"
     ]
    }
   ],
   "source": [
    "%%time\n",
    "\n",
    "for especie in especies:\n",
    "    print(\"especie:\", especie)\n",
    "    \n",
    "    for arquivo in os.listdir(os.path.join(DIR_ENTRADA, especie)):\n",
    "#    for arquivo in os.listdir(os.path.join(DIR_ENTRADA, especie))[:20]:\n",
    "\n",
    "        # montar nome do arquivo de entrada\n",
    "        entrada = os.path.join(DIR_ENTRADA, especie, arquivo)\n",
    "        if not entrada.endswith('.mp3'):\n",
    "            continue\n",
    "        #print(\"entrada:\", entrada)\n",
    "\n",
    "        prefixo_saida = os.path.join(DIR_SAIDA, especie, arquivo.replace('.mp3', '-'))\n",
    "        #print(\"prefixo_saida:\", prefixo_saida)\n",
    "        \n",
    "        # carregar áudio original em formato MP3\n",
    "        y, sr = librosa.load(entrada, sr=SAMPLE_RATE, mono=True)\n",
    "\n",
    "        # remover silêncio nas extremidades do áudio\n",
    "        yt, index = librosa.effects.trim(y)\n",
    "        duracao = yt.shape[0] / sr\n",
    "        \n",
    "        # calcular o número de cortes a serem efetuados no áudio\n",
    "        numero_cortes = round(duracao / DURACAO_TRECHO)\n",
    "        if numero_cortes == 0:\n",
    "            continue\n",
    "        \n",
    "        for corte in np.arange(1, numero_cortes + 1):\n",
    "            saida = prefixo_saida + \"0-\" + str(corte) + \".wav\"\n",
    "            \n",
    "            # calcular trechos de início e fim no áudio\n",
    "            inicio = PONTOS_ONDA * (corte - 1)\n",
    "            termino = PONTOS_ONDA * corte\n",
    "            ytc = yt[inicio:termino]\n",
    "            \n",
    "            # gravar arquivo de áudio em formato WAV\n",
    "            sf.write(saida, ytc, sr, format='wav', subtype='PCM_16')"
   ]
  },
  {
   "cell_type": "markdown",
   "id": "fd97e119",
   "metadata": {},
   "source": [
    "## Calcular quantidade de arquivos gerados"
   ]
  },
  {
   "cell_type": "code",
   "execution_count": 21,
   "id": "e33eb2ca",
   "metadata": {},
   "outputs": [],
   "source": [
    "arquivos = []\n",
    "for especie in especies:\n",
    "    arquivos.append(len(os.listdir(DIR_SAIDA + '/' + especie)))\n",
    "#arquivos"
   ]
  },
  {
   "cell_type": "code",
   "execution_count": 28,
   "id": "3b4b4c98",
   "metadata": {},
   "outputs": [
    {
     "data": {
      "text/html": [
       "<div>\n",
       "<style scoped>\n",
       "    .dataframe tbody tr th:only-of-type {\n",
       "        vertical-align: middle;\n",
       "    }\n",
       "\n",
       "    .dataframe tbody tr th {\n",
       "        vertical-align: top;\n",
       "    }\n",
       "\n",
       "    .dataframe thead th {\n",
       "        text-align: right;\n",
       "    }\n",
       "</style>\n",
       "<table border=\"1\" class=\"dataframe\">\n",
       "  <thead>\n",
       "    <tr style=\"text-align: right;\">\n",
       "      <th></th>\n",
       "      <th>especie</th>\n",
       "      <th>arquivos_mp3</th>\n",
       "      <th>arquivos_wav</th>\n",
       "      <th>diferenca</th>\n",
       "      <th>multiplicacao</th>\n",
       "    </tr>\n",
       "  </thead>\n",
       "  <tbody>\n",
       "    <tr>\n",
       "      <th>0</th>\n",
       "      <td>mimus_saturninus</td>\n",
       "      <td>148</td>\n",
       "      <td>1374</td>\n",
       "      <td>2266</td>\n",
       "      <td>15.0</td>\n",
       "    </tr>\n",
       "    <tr>\n",
       "      <th>1</th>\n",
       "      <td>ramphocelus_carbo</td>\n",
       "      <td>185</td>\n",
       "      <td>1220</td>\n",
       "      <td>2420</td>\n",
       "      <td>13.0</td>\n",
       "    </tr>\n",
       "    <tr>\n",
       "      <th>2</th>\n",
       "      <td>columba_livia</td>\n",
       "      <td>40</td>\n",
       "      <td>543</td>\n",
       "      <td>3097</td>\n",
       "      <td>77.0</td>\n",
       "    </tr>\n",
       "    <tr>\n",
       "      <th>3</th>\n",
       "      <td>turdus_leucomelas</td>\n",
       "      <td>322</td>\n",
       "      <td>2805</td>\n",
       "      <td>835</td>\n",
       "      <td>3.0</td>\n",
       "    </tr>\n",
       "    <tr>\n",
       "      <th>4</th>\n",
       "      <td>caracara_plancus</td>\n",
       "      <td>90</td>\n",
       "      <td>477</td>\n",
       "      <td>3163</td>\n",
       "      <td>35.0</td>\n",
       "    </tr>\n",
       "    <tr>\n",
       "      <th>5</th>\n",
       "      <td>megarynchus_pitangua</td>\n",
       "      <td>401</td>\n",
       "      <td>2640</td>\n",
       "      <td>1000</td>\n",
       "      <td>2.0</td>\n",
       "    </tr>\n",
       "    <tr>\n",
       "      <th>6</th>\n",
       "      <td>vanellus_chilensis</td>\n",
       "      <td>280</td>\n",
       "      <td>1624</td>\n",
       "      <td>2016</td>\n",
       "      <td>7.0</td>\n",
       "    </tr>\n",
       "    <tr>\n",
       "      <th>7</th>\n",
       "      <td>pitangus_sulphuratus</td>\n",
       "      <td>556</td>\n",
       "      <td>3640</td>\n",
       "      <td>0</td>\n",
       "      <td>0.0</td>\n",
       "    </tr>\n",
       "    <tr>\n",
       "      <th>8</th>\n",
       "      <td>turdus_rufiventris</td>\n",
       "      <td>209</td>\n",
       "      <td>2465</td>\n",
       "      <td>1175</td>\n",
       "      <td>6.0</td>\n",
       "    </tr>\n",
       "    <tr>\n",
       "      <th>9</th>\n",
       "      <td>furnarius_rufus</td>\n",
       "      <td>152</td>\n",
       "      <td>618</td>\n",
       "      <td>3022</td>\n",
       "      <td>20.0</td>\n",
       "    </tr>\n",
       "    <tr>\n",
       "      <th>10</th>\n",
       "      <td>theristicus_caudatus</td>\n",
       "      <td>106</td>\n",
       "      <td>508</td>\n",
       "      <td>3132</td>\n",
       "      <td>30.0</td>\n",
       "    </tr>\n",
       "  </tbody>\n",
       "</table>\n",
       "</div>"
      ],
      "text/plain": [
       "                 especie  arquivos_mp3  arquivos_wav  diferenca  multiplicacao\n",
       "0       mimus_saturninus           148          1374       2266           15.0\n",
       "1      ramphocelus_carbo           185          1220       2420           13.0\n",
       "2          columba_livia            40           543       3097           77.0\n",
       "3      turdus_leucomelas           322          2805        835            3.0\n",
       "4       caracara_plancus            90           477       3163           35.0\n",
       "5   megarynchus_pitangua           401          2640       1000            2.0\n",
       "6     vanellus_chilensis           280          1624       2016            7.0\n",
       "7   pitangus_sulphuratus           556          3640          0            0.0\n",
       "8     turdus_rufiventris           209          2465       1175            6.0\n",
       "9        furnarius_rufus           152           618       3022           20.0\n",
       "10  theristicus_caudatus           106           508       3132           30.0"
      ]
     },
     "execution_count": 28,
     "metadata": {},
     "output_type": "execute_result"
    }
   ],
   "source": [
    "df['arquivos_wav'] = arquivos\n",
    "maior_qtde = max(df['arquivos_wav'])\n",
    "df['diferenca'] = maior_qtde - df['arquivos_wav']\n",
    "df['multiplicacao'] = df[['diferenca', 'arquivos_mp3']].apply(lambda x: np.round(x[0] / x[1], 0), axis=1)\n",
    "df"
   ]
  },
  {
   "cell_type": "markdown",
   "id": "3f5ddf95",
   "metadata": {},
   "source": [
    "## Gerar arquivos adicionais com deslocamento"
   ]
  },
  {
   "cell_type": "code",
   "execution_count": null,
   "id": "47bb6562",
   "metadata": {
    "scrolled": true
   },
   "outputs": [
    {
     "name": "stdout",
     "output_type": "stream",
     "text": [
      "especie: mimus_saturninus\n",
      "-> multiplicacao: 15\n",
      "-> diferenca: 15\n",
      "-> qtde_arquivos: 2187 \n",
      "\n",
      "especie: ramphocelus_carbo\n",
      "-> multiplicacao: 13\n",
      "-> diferenca: 13\n",
      "-> qtde_arquivos: 2360 \n",
      "\n",
      "especie: columba_livia\n",
      "-> multiplicacao: 77\n",
      "-> diferenca: 77\n"
     ]
    }
   ],
   "source": [
    "%%time\n",
    "\n",
    "#for especie in ['furnarius_rufus']:\n",
    "#for especie in ['columba_livia']:\n",
    "for especie in especies:\n",
    "    print(\"especie:\", especie)\n",
    "    \n",
    "    # multiplicação necessária para a espécie\n",
    "    multiplicacao = int(df[df.especie == especie]['multiplicacao'].values[0])\n",
    "    print(\"-> multiplicacao:\", multiplicacao)\n",
    "    if multiplicacao == 0:\n",
    "        continue\n",
    "\n",
    "    diferenca = int(df[df.especie == especie]['diferenca'].values[0])\n",
    "    print(\"-> diferenca:\", diferenca)\n",
    "\n",
    "    qtde_arquivos = 0\n",
    "#    for arquivo in os.listdir(os.path.join(DIR_ENTRADA, especie))[:1]:\n",
    "#    for arquivo in os.listdir(os.path.join(DIR_ENTRADA, especie))[:20]:\n",
    "    for arquivo in os.listdir(os.path.join(DIR_ENTRADA, especie)):\n",
    "\n",
    "        # sair do laço se atingir a quantidade necessária\n",
    "        if qtde_arquivos >= diferenca:\n",
    "            break\n",
    "            \n",
    "        # montar nome do arquivo de entrada\n",
    "        entrada = os.path.join(DIR_ENTRADA, especie, arquivo)\n",
    "        if not entrada.endswith('.mp3'):\n",
    "            continue\n",
    "        #print(\"entrada:\", entrada)\n",
    "\n",
    "        prefixo_saida = os.path.join(DIR_SAIDA, especie, arquivo.replace('.mp3', '-'))\n",
    "        #print(\"prefixo_saida:\", prefixo_saida)\n",
    "        \n",
    "        # carregar áudio original em formato MP3\n",
    "        y, sr = librosa.load(entrada, sr=SAMPLE_RATE, mono=True)\n",
    "        numero_pontos = y.shape[0]\n",
    "        #print(\"-> numero_pontos:\", numero_pontos)\n",
    "        duracao = y.shape[0] / sr\n",
    "        #print(\"-> duracao:\", duracao, \"seg\")\n",
    "\n",
    "        # calcular o número de cortes a serem efetuados no áudio\n",
    "        numero_cortes = round(duracao / DURACAO_TRECHO)\n",
    "        #print(\"-> numero_cortes:\", numero_cortes)\n",
    "        if numero_cortes == 0:\n",
    "            continue\n",
    "        \n",
    "        # calcular o número necessário de variações\n",
    "        numero_variacoes = round(multiplicacao / numero_cortes)\n",
    "        #print(\"-> numero_variacoes:\", numero_variacoes)\n",
    "        \n",
    "        for variacao in np.arange(1, numero_variacoes + 1):\n",
    "            \n",
    "            # sair do laço se atingir a quantidade necessária\n",
    "            if qtde_arquivos >= diferenca:\n",
    "                break\n",
    "\n",
    "            # deslocar o sinal (roll)\n",
    "            tamanho_roll = variacao * int(PONTOS_ONDA / (variacao + 1))\n",
    "            #print(\"--> tamanho_roll:\", tamanho_roll)\n",
    "            yr = np.roll(y, tamanho_roll)\n",
    "            \n",
    "            # adicionar ruído ao sinal\n",
    "            yrs = yr + 0.009 * np.random.normal(0, 1, len(yr))\n",
    "            \n",
    "            for corte in np.arange(1, numero_cortes + 1):\n",
    "\n",
    "                # sair do laço se atingir a quantidade necessária\n",
    "                if qtde_arquivos >= diferenca:\n",
    "                    break\n",
    "\n",
    "                saida = prefixo_saida + str(variacao) + \"-\" + str(corte) + \".wav\"\n",
    "                    \n",
    "                # calcular trechos de início e fim no áudio\n",
    "                inicio = PONTOS_ONDA * (corte - 1)\n",
    "                termino = PONTOS_ONDA * corte\n",
    "                yrc = yrs[inicio:termino]\n",
    "                \n",
    "                duracao = yrc.shape[0] / sr\n",
    "                if (duracao / DURACAO_TRECHO < 0.3):\n",
    "                    break\n",
    "\n",
    "                # gravar arquivo de áudio em formato WAV\n",
    "                sf.write(saida, yrc, sr, format='wav', subtype='PCM_16')\n",
    "                qtde_arquivos += 1\n",
    "                \n",
    "    print(\"-> qtde_arquivos:\", qtde_arquivos, \"\\n\")"
   ]
  },
  {
   "cell_type": "markdown",
   "id": "80438904",
   "metadata": {},
   "source": [
    "## Calcular quantidade de arquivos gerados ao final"
   ]
  },
  {
   "cell_type": "code",
   "execution_count": null,
   "id": "85158a36",
   "metadata": {},
   "outputs": [],
   "source": [
    "arquivos = []\n",
    "for especie in especies:\n",
    "    arquivos.append(len(os.listdir(DIR_SAIDA + '/' + especie)))\n",
    "#arquivos"
   ]
  },
  {
   "cell_type": "code",
   "execution_count": null,
   "id": "25588ce3",
   "metadata": {},
   "outputs": [],
   "source": [
    "df['arquivos_wav2'] = arquivos\n",
    "df"
   ]
  }
 ],
 "metadata": {
  "kernelspec": {
   "display_name": "Python 3",
   "language": "python",
   "name": "python3"
  },
  "language_info": {
   "codemirror_mode": {
    "name": "ipython",
    "version": 3
   },
   "file_extension": ".py",
   "mimetype": "text/x-python",
   "name": "python",
   "nbconvert_exporter": "python",
   "pygments_lexer": "ipython3",
   "version": "3.8.8"
  }
 },
 "nbformat": 4,
 "nbformat_minor": 5
}
