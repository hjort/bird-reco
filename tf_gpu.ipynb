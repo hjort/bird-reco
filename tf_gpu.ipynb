{
 "cells": [
  {
   "cell_type": "markdown",
   "id": "79bb7cbc",
   "metadata": {},
   "source": [
    "https://medium.com/analytics-vidhya/solution-to-tensorflow-2-not-using-gpu-119fb3e04daa\n",
    "\n",
    "https://stackoverflow.com/questions/51306862/how-do-i-use-tensorflow-gpu"
   ]
  },
  {
   "cell_type": "raw",
   "id": "b54e6525",
   "metadata": {},
   "source": [
    "!pip install tensorflow-gpu"
   ]
  },
  {
   "cell_type": "code",
   "execution_count": 1,
   "id": "8d11bb1f",
   "metadata": {},
   "outputs": [
    {
     "ename": "RuntimeError",
     "evalue": "cudaGetDevice() failed. Status: initialization error",
     "output_type": "error",
     "traceback": [
      "\u001b[0;31m---------------------------------------------------------------------------\u001b[0m",
      "\u001b[0;31mRuntimeError\u001b[0m                              Traceback (most recent call last)",
      "\u001b[0;32m<ipython-input-1-71cd108ca1ea>\u001b[0m in \u001b[0;36m<module>\u001b[0;34m\u001b[0m\n\u001b[1;32m      1\u001b[0m \u001b[0;32mfrom\u001b[0m \u001b[0mtensorflow\u001b[0m\u001b[0;34m.\u001b[0m\u001b[0mpython\u001b[0m\u001b[0;34m.\u001b[0m\u001b[0mclient\u001b[0m \u001b[0;32mimport\u001b[0m \u001b[0mdevice_lib\u001b[0m\u001b[0;34m\u001b[0m\u001b[0;34m\u001b[0m\u001b[0m\n\u001b[1;32m      2\u001b[0m \u001b[0;34m\u001b[0m\u001b[0m\n\u001b[0;32m----> 3\u001b[0;31m \u001b[0mprint\u001b[0m\u001b[0;34m(\u001b[0m\u001b[0mdevice_lib\u001b[0m\u001b[0;34m.\u001b[0m\u001b[0mlist_local_devices\u001b[0m\u001b[0;34m(\u001b[0m\u001b[0;34m)\u001b[0m\u001b[0;34m)\u001b[0m\u001b[0;34m\u001b[0m\u001b[0;34m\u001b[0m\u001b[0m\n\u001b[0m",
      "\u001b[0;32m~/anaconda3/lib/python3.8/site-packages/tensorflow/python/client/device_lib.py\u001b[0m in \u001b[0;36mlist_local_devices\u001b[0;34m(session_config)\u001b[0m\n\u001b[1;32m     41\u001b[0m     \u001b[0mserialized_config\u001b[0m \u001b[0;34m=\u001b[0m \u001b[0msession_config\u001b[0m\u001b[0;34m.\u001b[0m\u001b[0mSerializeToString\u001b[0m\u001b[0;34m(\u001b[0m\u001b[0;34m)\u001b[0m\u001b[0;34m\u001b[0m\u001b[0;34m\u001b[0m\u001b[0m\n\u001b[1;32m     42\u001b[0m   return [\n\u001b[0;32m---> 43\u001b[0;31m       \u001b[0m_convert\u001b[0m\u001b[0;34m(\u001b[0m\u001b[0ms\u001b[0m\u001b[0;34m)\u001b[0m \u001b[0;32mfor\u001b[0m \u001b[0ms\u001b[0m \u001b[0;32min\u001b[0m \u001b[0m_pywrap_device_lib\u001b[0m\u001b[0;34m.\u001b[0m\u001b[0mlist_devices\u001b[0m\u001b[0;34m(\u001b[0m\u001b[0mserialized_config\u001b[0m\u001b[0;34m)\u001b[0m\u001b[0;34m\u001b[0m\u001b[0;34m\u001b[0m\u001b[0m\n\u001b[0m\u001b[1;32m     44\u001b[0m   ]\n",
      "\u001b[0;31mRuntimeError\u001b[0m: cudaGetDevice() failed. Status: initialization error"
     ]
    }
   ],
   "source": [
    "from tensorflow.python.client import device_lib\n",
    "\n",
    "print(device_lib.list_local_devices())"
   ]
  },
  {
   "cell_type": "code",
   "execution_count": 2,
   "id": "51cef915",
   "metadata": {},
   "outputs": [
    {
     "data": {
      "text/plain": [
       "[PhysicalDevice(name='/physical_device:CPU:0', device_type='CPU'),\n",
       " PhysicalDevice(name='/physical_device:GPU:0', device_type='GPU'),\n",
       " PhysicalDevice(name='/physical_device:GPU:1', device_type='GPU'),\n",
       " PhysicalDevice(name='/physical_device:GPU:2', device_type='GPU')]"
      ]
     },
     "execution_count": 2,
     "metadata": {},
     "output_type": "execute_result"
    }
   ],
   "source": [
    "import tensorflow as tf\n",
    "\n",
    "tf.config.list_physical_devices()"
   ]
  },
  {
   "cell_type": "code",
   "execution_count": 13,
   "id": "fd7b2c3c",
   "metadata": {},
   "outputs": [
    {
     "name": "stdout",
     "output_type": "stream",
     "text": [
      "cudatoolkit               11.3.1               h2bc3f7f_2  \r\n",
      "cudnn                     8.2.1                cuda11.3_0  \r\n"
     ]
    }
   ],
   "source": [
    "!conda list | grep cud"
   ]
  },
  {
   "cell_type": "code",
   "execution_count": 14,
   "id": "8895b418",
   "metadata": {},
   "outputs": [
    {
     "name": "stdout",
     "output_type": "stream",
     "text": [
      "nvcc: NVIDIA (R) Cuda compiler driver\r\n",
      "Copyright (c) 2005-2019 NVIDIA Corporation\r\n",
      "Built on Wed_Oct_23_19:24:38_PDT_2019\r\n",
      "Cuda compilation tools, release 10.2, V10.2.89\r\n"
     ]
    }
   ],
   "source": [
    "!nvcc -V"
   ]
  },
  {
   "cell_type": "code",
   "execution_count": 8,
   "id": "a7ff5b15",
   "metadata": {},
   "outputs": [
    {
     "name": "stdout",
     "output_type": "stream",
     "text": [
      "Loading channels: done\n",
      "# Name                       Version           Build  Channel             \n",
      "cudnn                          7.0.5       cuda8.0_0  pkgs/main           \n",
      "cudnn                          7.1.2       cuda9.0_0  pkgs/main           \n",
      "cudnn                          7.1.3       cuda8.0_0  pkgs/main           \n",
      "cudnn                          7.2.1       cuda9.2_0  pkgs/main           \n",
      "cudnn                          7.3.1      cuda10.0_0  pkgs/main           \n",
      "cudnn                          7.3.1       cuda9.0_0  pkgs/main           \n",
      "cudnn                          7.3.1       cuda9.2_0  pkgs/main           \n",
      "cudnn                          7.6.0      cuda10.0_0  pkgs/main           \n",
      "cudnn                          7.6.0      cuda10.1_0  pkgs/main           \n",
      "cudnn                          7.6.0       cuda9.0_0  pkgs/main           \n",
      "cudnn                          7.6.0       cuda9.2_0  pkgs/main           \n",
      "cudnn                          7.6.4      cuda10.0_0  pkgs/main           \n",
      "cudnn                          7.6.4      cuda10.1_0  pkgs/main           \n",
      "cudnn                          7.6.4       cuda9.0_0  pkgs/main           \n",
      "cudnn                          7.6.4       cuda9.2_0  pkgs/main           \n",
      "cudnn                          7.6.5      cuda10.0_0  pkgs/main           \n",
      "cudnn                          7.6.5      cuda10.1_0  pkgs/main           \n",
      "cudnn                          7.6.5      cuda10.2_0  pkgs/main           \n",
      "cudnn                          7.6.5       cuda9.0_0  pkgs/main           \n",
      "cudnn                          7.6.5       cuda9.2_0  pkgs/main           \n",
      "cudnn                          8.2.1      cuda11.3_0  pkgs/main           \n"
     ]
    }
   ],
   "source": [
    "!conda search cudnn"
   ]
  },
  {
   "cell_type": "code",
   "execution_count": 12,
   "id": "d73816b8",
   "metadata": {},
   "outputs": [],
   "source": [
    "#!conda install cudnn=7.6.5=cuda10.1_0\n",
    "#!conda install cudnn"
   ]
  },
  {
   "cell_type": "code",
   "execution_count": null,
   "id": "74af9b59",
   "metadata": {},
   "outputs": [],
   "source": []
  }
 ],
 "metadata": {
  "kernelspec": {
   "display_name": "Python 3",
   "language": "python",
   "name": "python3"
  },
  "language_info": {
   "codemirror_mode": {
    "name": "ipython",
    "version": 3
   },
   "file_extension": ".py",
   "mimetype": "text/x-python",
   "name": "python",
   "nbconvert_exporter": "python",
   "pygments_lexer": "ipython3",
   "version": "3.8.8"
  }
 },
 "nbformat": 4,
 "nbformat_minor": 5
}
