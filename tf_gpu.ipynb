{
 "cells": [
  {
   "cell_type": "code",
   "execution_count": 2,
   "id": "5ca29365",
   "metadata": {},
   "outputs": [
    {
     "name": "stdout",
     "output_type": "stream",
     "text": [
      "Collecting tensorflow-gpu\n",
      "  Downloading tensorflow_gpu-2.5.0-cp38-cp38-manylinux2010_x86_64.whl (454.4 MB)\n",
      "\u001b[K     |████████████████████████████████| 454.4 MB 107 bytes/s a 0:00:01  |▏                               | 1.9 MB 4.0 MB/s eta 0:01:54     |██                              | 26.8 MB 4.0 MB/s eta 0:01:48     |██████▎                         | 89.3 MB 31.4 MB/s eta 0:00:12     |██████▍                         | 91.4 MB 31.4 MB/s eta 0:00:12     |███████▋                        | 108.5 MB 31.4 MB/s eta 0:00:12     |████████▎                       | 117.3 MB 31.4 MB/s eta 0:00:11     |████████████▋                   | 178.8 MB 35.8 MB/s eta 0:00:08     |████████████▊                   | 180.9 MB 35.8 MB/s eta 0:00:08     |█████████████▏                  | 187.5 MB 35.8 MB/s eta 0:00:08     |██████████████▋                 | 206.7 MB 34.3 MB/s eta 0:00:08     |█████████████████               | 240.4 MB 34.3 MB/s eta 0:00:07     |█████████████████▍              | 246.7 MB 36.8 MB/s eta 0:00:06     |█████████████████▌              | 248.6 MB 36.8 MB/s eta 0:00:06     |███████████████████             | 270.3 MB 36.8 MB/s eta 0:00:06     |███████████████████▋            | 278.9 MB 36.8 MB/s eta 0:00:05     |████████████████████▊           | 294.0 MB 23.1 MB/s eta 0:00:07     |████████████████████▉           | 296.0 MB 23.1 MB/s eta 0:00:07     |█████████████████████           | 298.2 MB 23.1 MB/s eta 0:00:07     |██████████████████████▋         | 321.5 MB 23.1 MB/s eta 0:00:06     |███████████████████████         | 327.9 MB 23.1 MB/s eta 0:00:06     |██████████████████████████      | 370.7 MB 77.1 MB/s eta 0:00:02     |██████████████████████████▊     | 379.6 MB 77.1 MB/s eta 0:00:01     |████████████████████████████▌   | 405.5 MB 77.1 MB/s eta 0:00:01     |█████████████████████████████▏  | 413.9 MB 41.3 MB/s eta 0:00:01     |██████████████████████████████▍ | 430.8 MB 41.3 MB/s eta 0:00:01     |███████████████████████████████ | 441.3 MB 41.3 MB/s eta 0:00:01\n",
      "\u001b[?25hRequirement already satisfied: six~=1.15.0 in /home/rhjort/anaconda3/lib/python3.8/site-packages (from tensorflow-gpu) (1.15.0)\n",
      "Requirement already satisfied: google-pasta~=0.2 in /home/rhjort/anaconda3/lib/python3.8/site-packages (from tensorflow-gpu) (0.2.0)\n",
      "Requirement already satisfied: tensorflow-estimator<2.6.0,>=2.5.0rc0 in /home/rhjort/anaconda3/lib/python3.8/site-packages (from tensorflow-gpu) (2.5.0)\n",
      "Requirement already satisfied: gast==0.4.0 in /home/rhjort/anaconda3/lib/python3.8/site-packages (from tensorflow-gpu) (0.4.0)\n",
      "Requirement already satisfied: wheel~=0.35 in /home/rhjort/anaconda3/lib/python3.8/site-packages (from tensorflow-gpu) (0.36.2)\n",
      "Requirement already satisfied: typing-extensions~=3.7.4 in /home/rhjort/anaconda3/lib/python3.8/site-packages (from tensorflow-gpu) (3.7.4.3)\n",
      "Requirement already satisfied: wrapt~=1.12.1 in /home/rhjort/anaconda3/lib/python3.8/site-packages (from tensorflow-gpu) (1.12.1)\n",
      "Requirement already satisfied: h5py~=3.1.0 in /home/rhjort/anaconda3/lib/python3.8/site-packages (from tensorflow-gpu) (3.1.0)\n",
      "Requirement already satisfied: termcolor~=1.1.0 in /home/rhjort/anaconda3/lib/python3.8/site-packages (from tensorflow-gpu) (1.1.0)\n",
      "Requirement already satisfied: flatbuffers~=1.12.0 in /home/rhjort/anaconda3/lib/python3.8/site-packages (from tensorflow-gpu) (1.12)\n",
      "Requirement already satisfied: keras-nightly~=2.5.0.dev in /home/rhjort/anaconda3/lib/python3.8/site-packages (from tensorflow-gpu) (2.5.0.dev2021032900)\n",
      "Requirement already satisfied: protobuf>=3.9.2 in /home/rhjort/anaconda3/lib/python3.8/site-packages (from tensorflow-gpu) (3.17.3)\n",
      "Requirement already satisfied: tensorboard~=2.5 in /home/rhjort/anaconda3/lib/python3.8/site-packages (from tensorflow-gpu) (2.6.0)\n",
      "Requirement already satisfied: absl-py~=0.10 in /home/rhjort/anaconda3/lib/python3.8/site-packages (from tensorflow-gpu) (0.13.0)\n",
      "Requirement already satisfied: opt-einsum~=3.3.0 in /home/rhjort/anaconda3/lib/python3.8/site-packages (from tensorflow-gpu) (3.3.0)\n",
      "Requirement already satisfied: keras-preprocessing~=1.1.2 in /home/rhjort/anaconda3/lib/python3.8/site-packages (from tensorflow-gpu) (1.1.2)\n",
      "Requirement already satisfied: grpcio~=1.34.0 in /home/rhjort/anaconda3/lib/python3.8/site-packages (from tensorflow-gpu) (1.34.1)\n",
      "Requirement already satisfied: astunparse~=1.6.3 in /home/rhjort/anaconda3/lib/python3.8/site-packages (from tensorflow-gpu) (1.6.3)\n",
      "Requirement already satisfied: numpy~=1.19.2 in /home/rhjort/anaconda3/lib/python3.8/site-packages (from tensorflow-gpu) (1.19.5)\n",
      "Requirement already satisfied: tensorboard-plugin-wit>=1.6.0 in /home/rhjort/anaconda3/lib/python3.8/site-packages (from tensorboard~=2.5->tensorflow-gpu) (1.8.0)\n",
      "Requirement already satisfied: google-auth-oauthlib<0.5,>=0.4.1 in /home/rhjort/anaconda3/lib/python3.8/site-packages (from tensorboard~=2.5->tensorflow-gpu) (0.4.5)\n",
      "Requirement already satisfied: markdown>=2.6.8 in /home/rhjort/anaconda3/lib/python3.8/site-packages (from tensorboard~=2.5->tensorflow-gpu) (3.3.4)\n",
      "Requirement already satisfied: google-auth<2,>=1.6.3 in /home/rhjort/anaconda3/lib/python3.8/site-packages (from tensorboard~=2.5->tensorflow-gpu) (1.34.0)\n",
      "Requirement already satisfied: tensorboard-data-server<0.7.0,>=0.6.0 in /home/rhjort/anaconda3/lib/python3.8/site-packages (from tensorboard~=2.5->tensorflow-gpu) (0.6.1)\n",
      "Requirement already satisfied: setuptools>=41.0.0 in /home/rhjort/anaconda3/lib/python3.8/site-packages (from tensorboard~=2.5->tensorflow-gpu) (52.0.0.post20210125)\n",
      "Requirement already satisfied: requests<3,>=2.21.0 in /home/rhjort/anaconda3/lib/python3.8/site-packages (from tensorboard~=2.5->tensorflow-gpu) (2.25.1)\n",
      "Requirement already satisfied: werkzeug>=0.11.15 in /home/rhjort/anaconda3/lib/python3.8/site-packages (from tensorboard~=2.5->tensorflow-gpu) (1.0.1)\n",
      "Requirement already satisfied: cachetools<5.0,>=2.0.0 in /home/rhjort/anaconda3/lib/python3.8/site-packages (from google-auth<2,>=1.6.3->tensorboard~=2.5->tensorflow-gpu) (4.2.2)\n",
      "Requirement already satisfied: pyasn1-modules>=0.2.1 in /home/rhjort/anaconda3/lib/python3.8/site-packages (from google-auth<2,>=1.6.3->tensorboard~=2.5->tensorflow-gpu) (0.2.8)\n",
      "Requirement already satisfied: rsa<5,>=3.1.4 in /home/rhjort/anaconda3/lib/python3.8/site-packages (from google-auth<2,>=1.6.3->tensorboard~=2.5->tensorflow-gpu) (4.7.2)\n",
      "Requirement already satisfied: requests-oauthlib>=0.7.0 in /home/rhjort/anaconda3/lib/python3.8/site-packages (from google-auth-oauthlib<0.5,>=0.4.1->tensorboard~=2.5->tensorflow-gpu) (1.3.0)\n",
      "Requirement already satisfied: pyasn1<0.5.0,>=0.4.6 in /home/rhjort/anaconda3/lib/python3.8/site-packages (from pyasn1-modules>=0.2.1->google-auth<2,>=1.6.3->tensorboard~=2.5->tensorflow-gpu) (0.4.8)\n",
      "Requirement already satisfied: chardet<5,>=3.0.2 in /home/rhjort/anaconda3/lib/python3.8/site-packages (from requests<3,>=2.21.0->tensorboard~=2.5->tensorflow-gpu) (4.0.0)\n",
      "Requirement already satisfied: idna<3,>=2.5 in /home/rhjort/anaconda3/lib/python3.8/site-packages (from requests<3,>=2.21.0->tensorboard~=2.5->tensorflow-gpu) (2.10)\n",
      "Requirement already satisfied: certifi>=2017.4.17 in /home/rhjort/anaconda3/lib/python3.8/site-packages (from requests<3,>=2.21.0->tensorboard~=2.5->tensorflow-gpu) (2021.5.30)\n",
      "Requirement already satisfied: urllib3<1.27,>=1.21.1 in /home/rhjort/anaconda3/lib/python3.8/site-packages (from requests<3,>=2.21.0->tensorboard~=2.5->tensorflow-gpu) (1.26.6)\n",
      "Requirement already satisfied: oauthlib>=3.0.0 in /home/rhjort/anaconda3/lib/python3.8/site-packages (from requests-oauthlib>=0.7.0->google-auth-oauthlib<0.5,>=0.4.1->tensorboard~=2.5->tensorflow-gpu) (3.1.1)\n",
      "Installing collected packages: tensorflow-gpu\n",
      "Successfully installed tensorflow-gpu-2.5.0\n"
     ]
    }
   ],
   "source": [
    "!pip install tensorflow-gpu"
   ]
  },
  {
   "cell_type": "code",
   "execution_count": 3,
   "id": "faf39f2e",
   "metadata": {},
   "outputs": [
    {
     "name": "stdout",
     "output_type": "stream",
     "text": [
      "[name: \"/device:CPU:0\"\n",
      "device_type: \"CPU\"\n",
      "memory_limit: 268435456\n",
      "locality {\n",
      "}\n",
      "incarnation: 10568850883294386957\n",
      "]\n"
     ]
    }
   ],
   "source": [
    "from tensorflow.python.client import device_lib\n",
    "\n",
    "print(device_lib.list_local_devices())"
   ]
  },
  {
   "cell_type": "markdown",
   "id": "c9715946",
   "metadata": {},
   "source": [
    "https://medium.com/analytics-vidhya/solution-to-tensorflow-2-not-using-gpu-119fb3e04daa"
   ]
  },
  {
   "cell_type": "code",
   "execution_count": 15,
   "id": "3be1ed59",
   "metadata": {},
   "outputs": [
    {
     "data": {
      "text/plain": [
       "[PhysicalDevice(name='/physical_device:CPU:0', device_type='CPU')]"
      ]
     },
     "execution_count": 15,
     "metadata": {},
     "output_type": "execute_result"
    }
   ],
   "source": [
    "import tensorflow as tf\n",
    "\n",
    "tf.config.list_physical_devices()"
   ]
  },
  {
   "cell_type": "code",
   "execution_count": 13,
   "id": "5b989629",
   "metadata": {},
   "outputs": [
    {
     "name": "stdout",
     "output_type": "stream",
     "text": [
      "cudatoolkit               11.3.1               h2bc3f7f_2  \r\n",
      "cudnn                     8.2.1                cuda11.3_0  \r\n"
     ]
    }
   ],
   "source": [
    "!conda list | grep cud"
   ]
  },
  {
   "cell_type": "code",
   "execution_count": 14,
   "id": "f2881bef",
   "metadata": {},
   "outputs": [
    {
     "name": "stdout",
     "output_type": "stream",
     "text": [
      "nvcc: NVIDIA (R) Cuda compiler driver\r\n",
      "Copyright (c) 2005-2019 NVIDIA Corporation\r\n",
      "Built on Wed_Oct_23_19:24:38_PDT_2019\r\n",
      "Cuda compilation tools, release 10.2, V10.2.89\r\n"
     ]
    }
   ],
   "source": [
    "!nvcc -V"
   ]
  },
  {
   "cell_type": "code",
   "execution_count": 8,
   "id": "84c9da16",
   "metadata": {},
   "outputs": [
    {
     "name": "stdout",
     "output_type": "stream",
     "text": [
      "Loading channels: done\n",
      "# Name                       Version           Build  Channel             \n",
      "cudnn                          7.0.5       cuda8.0_0  pkgs/main           \n",
      "cudnn                          7.1.2       cuda9.0_0  pkgs/main           \n",
      "cudnn                          7.1.3       cuda8.0_0  pkgs/main           \n",
      "cudnn                          7.2.1       cuda9.2_0  pkgs/main           \n",
      "cudnn                          7.3.1      cuda10.0_0  pkgs/main           \n",
      "cudnn                          7.3.1       cuda9.0_0  pkgs/main           \n",
      "cudnn                          7.3.1       cuda9.2_0  pkgs/main           \n",
      "cudnn                          7.6.0      cuda10.0_0  pkgs/main           \n",
      "cudnn                          7.6.0      cuda10.1_0  pkgs/main           \n",
      "cudnn                          7.6.0       cuda9.0_0  pkgs/main           \n",
      "cudnn                          7.6.0       cuda9.2_0  pkgs/main           \n",
      "cudnn                          7.6.4      cuda10.0_0  pkgs/main           \n",
      "cudnn                          7.6.4      cuda10.1_0  pkgs/main           \n",
      "cudnn                          7.6.4       cuda9.0_0  pkgs/main           \n",
      "cudnn                          7.6.4       cuda9.2_0  pkgs/main           \n",
      "cudnn                          7.6.5      cuda10.0_0  pkgs/main           \n",
      "cudnn                          7.6.5      cuda10.1_0  pkgs/main           \n",
      "cudnn                          7.6.5      cuda10.2_0  pkgs/main           \n",
      "cudnn                          7.6.5       cuda9.0_0  pkgs/main           \n",
      "cudnn                          7.6.5       cuda9.2_0  pkgs/main           \n",
      "cudnn                          8.2.1      cuda11.3_0  pkgs/main           \n"
     ]
    }
   ],
   "source": [
    "!conda search cudnn"
   ]
  },
  {
   "cell_type": "code",
   "execution_count": 12,
   "id": "cf92be42",
   "metadata": {},
   "outputs": [],
   "source": [
    "#!conda install cudnn=7.6.5=cuda10.1_0\n",
    "#!conda install cudnn"
   ]
  },
  {
   "cell_type": "code",
   "execution_count": null,
   "id": "21e20e6d",
   "metadata": {},
   "outputs": [],
   "source": []
  }
 ],
 "metadata": {
  "kernelspec": {
   "display_name": "Python 3",
   "language": "python",
   "name": "python3"
  },
  "language_info": {
   "codemirror_mode": {
    "name": "ipython",
    "version": 3
   },
   "file_extension": ".py",
   "mimetype": "text/x-python",
   "name": "python",
   "nbconvert_exporter": "python",
   "pygments_lexer": "ipython3",
   "version": "3.8.8"
  }
 },
 "nbformat": 4,
 "nbformat_minor": 5
}
